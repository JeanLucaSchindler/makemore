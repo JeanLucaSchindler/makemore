{
 "cells": [
  {
   "cell_type": "code",
   "execution_count": 1,
   "metadata": {},
   "outputs": [],
   "source": [
    "import torch\n",
    "import numpy as np\n",
    "import matplotlib.pyplot as plt\n",
    "%matplotlib inline\n",
    "import torch.nn.functional as F"
   ]
  },
  {
   "cell_type": "markdown",
   "metadata": {},
   "source": [
    "# MLP model"
   ]
  },
  {
   "cell_type": "markdown",
   "metadata": {},
   "source": [
    "## Data preproc"
   ]
  },
  {
   "cell_type": "code",
   "execution_count": 2,
   "metadata": {},
   "outputs": [],
   "source": [
    "words = open('names.txt', 'r').read().split()"
   ]
  },
  {
   "cell_type": "code",
   "execution_count": 114,
   "metadata": {},
   "outputs": [],
   "source": [
    "char = sorted(list(set(''.join(words))))\n",
    "stoi = dict()\n",
    "nums = np.arange(len(char))\n",
    "\n",
    "for l,num in zip(char, nums):\n",
    "    stoi[l] = num+1\n",
    "\n",
    "stoi['.'] = 0\n",
    "\n",
    "itos = {i:s for s,i in stoi.items()}"
   ]
  },
  {
   "cell_type": "code",
   "execution_count": 99,
   "metadata": {},
   "outputs": [
    {
     "name": "stdout",
     "output_type": "stream",
     "text": [
      "torch.Size([228146, 3]) torch.Size([228146])\n"
     ]
    }
   ],
   "source": [
    "# build dataset\n",
    "def build_dataset(words):\n",
    "    block_size = 3 # context lenght: how many characters de we take to predict the next one\n",
    "    X, Y = [], []\n",
    "    for w in words:\n",
    "        context = [0] * block_size\n",
    "        for ch in w + '.':\n",
    "            ix = stoi[ch]\n",
    "            X.append(context)\n",
    "            Y.append(ix)\n",
    "            context = context[1:] + [ix] # crop and append\n",
    "\n",
    "    X = torch.tensor(X)\n",
    "    Y = torch.tensor(Y)\n",
    "    return X, Y\n",
    "\n",
    "X, Y = build_dataset(words)\n",
    "\n",
    "print(X.shape, Y.shape)"
   ]
  },
  {
   "cell_type": "code",
   "execution_count": 101,
   "metadata": {},
   "outputs": [],
   "source": [
    "import random\n",
    "random.seed(42)\n",
    "random.shuffle(words)\n",
    "n1 = int(len(words) * 0.8)\n",
    "n2 = int(len(words) * 0.9)\n",
    "\n",
    "Xtr, Ytr = build_dataset(words[:n1])\n",
    "Xva, Yva = build_dataset(words[n1:n2])\n",
    "Xte, Yte = build_dataset(words[n2:])"
   ]
  },
  {
   "cell_type": "code",
   "execution_count": 5,
   "metadata": {},
   "outputs": [
    {
     "name": "stdout",
     "output_type": "stream",
     "text": [
      "torch.Size([228146, 3, 2])\n"
     ]
    }
   ],
   "source": [
    "# CREATE EMBEDDINGS LAYER\n",
    "\n",
    "C = torch.randn((27,2)) # 27 characters, 2 dimensions\n",
    "\n",
    "emb = C[X] # for each example, we have 3 characters, and for each character we have 2 dimensions\n",
    "print(emb.shape)"
   ]
  },
  {
   "cell_type": "code",
   "execution_count": 6,
   "metadata": {},
   "outputs": [
    {
     "name": "stdout",
     "output_type": "stream",
     "text": [
      "torch.Size([6, 100]) torch.Size([100])\n"
     ]
    }
   ],
   "source": [
    "# CREATE FIRST HIDDEN LAYER\n",
    "\n",
    "inputs = 3 * 2 # 3 characters, 2 dimensions\n",
    "W1 = torch.randn(inputs,100) # set number of neurons in the hidden layer to 100\n",
    "b1 = torch.randn(100)\n",
    "\n",
    "print(W1.shape, b1.shape)"
   ]
  },
  {
   "cell_type": "markdown",
   "metadata": {},
   "source": [
    "We would like to do: \n",
    "\n",
    "$emb * W1 + b1$\n",
    "\n",
    "But the dimension of W1 is (6,100) and of emb is (32, 3, 2)\n",
    "\n",
    "To do this, we use the view() function to reshape emb. As long as the multiplication of dimensions equals the multiplications of dimensions of the original matrix, it works!\n",
    "\n",
    "view() is more efficient than other methods because it doesn't do any operation. It just take the values in the computer and respecify how they are allocated"
   ]
  },
  {
   "cell_type": "code",
   "execution_count": 7,
   "metadata": {},
   "outputs": [
    {
     "data": {
      "text/plain": [
       "torch.Size([228146, 100])"
      ]
     },
     "execution_count": 7,
     "metadata": {},
     "output_type": "execute_result"
    }
   ],
   "source": [
    "h = torch.tanh(emb.view(emb.shape[0], 6) @ W1 + b1)\n",
    "\n",
    "# here the addition of b1 is broadcasted over the rows of the matrix. It works!\n",
    "#   32, 100\n",
    "# 1*32, 100\n",
    "\n",
    "h.shape"
   ]
  },
  {
   "cell_type": "code",
   "execution_count": 8,
   "metadata": {},
   "outputs": [
    {
     "data": {
      "text/plain": [
       "tensor(1.0000)"
      ]
     },
     "execution_count": 8,
     "metadata": {},
     "output_type": "execute_result"
    }
   ],
   "source": [
    "# CREATE OUTPUT LAYER\n",
    "\n",
    "W2 = torch.randn(100, 27) # because output of last layer is 100, and we want to pred one of 27 characters\n",
    "b2 = torch.randn(27) # one bias for each character\n",
    "\n",
    "logits = h @ W2 + b2\n",
    "counts = logits.exp()\n",
    "probs = counts / counts.sum(-1, keepdim=True)\n",
    "\n",
    "probs[0].sum() # should be 1"
   ]
  },
  {
   "cell_type": "code",
   "execution_count": 9,
   "metadata": {},
   "outputs": [
    {
     "name": "stdout",
     "output_type": "stream",
     "text": [
      "tensor([     0,      1,      2,  ..., 228143, 228144, 228145])\n",
      "tensor([ 5, 13, 13,  ..., 26, 24,  0])\n"
     ]
    },
    {
     "data": {
      "text/plain": [
       "tensor([2.2988e-07, 1.9791e-06, 1.7557e-15,  ..., 2.4603e-08, 3.3407e-10,\n",
       "        1.3754e-11])"
      ]
     },
     "execution_count": 9,
     "metadata": {},
     "output_type": "execute_result"
    }
   ],
   "source": [
    "# LOSS FUNCTION\n",
    "\n",
    "print(torch.arange(emb.shape[0])) # row iterator\n",
    "\n",
    "print(Y) # target\n",
    "\n",
    "probs[torch.arange(emb.shape[0]), Y] # current probabilities of the target character according to the model"
   ]
  },
  {
   "cell_type": "code",
   "execution_count": 10,
   "metadata": {},
   "outputs": [
    {
     "data": {
      "text/plain": [
       "True"
      ]
     },
     "execution_count": 10,
     "metadata": {},
     "output_type": "execute_result"
    }
   ],
   "source": [
    "loss_manual = - probs[torch.arange(emb.shape[0]), Y].log().mean() # negative log likelihood\n",
    "loss = F.cross_entropy(logits, Y) # same thing (more efficient: derive the softmax in the same step instead of each step)\n",
    "\n",
    "round(loss_manual.item(), 3) == round(loss.item(), 3)"
   ]
  },
  {
   "cell_type": "markdown",
   "metadata": {},
   "source": [
    "# Trainning"
   ]
  },
  {
   "cell_type": "code",
   "execution_count": 102,
   "metadata": {},
   "outputs": [],
   "source": [
    "# set up parameters\n",
    "\n",
    "C = torch.randn((27,2))\n",
    "W1 = torch.randn(inputs,100)\n",
    "b1 = torch.randn(100)\n",
    "W2 = torch.randn(100, 27)\n",
    "b2 = torch.randn(27)\n",
    "parameters = [C, W1, b1, W2, b2]\n",
    "\n",
    "for p in parameters:\n",
    "    p.requires_grad = True"
   ]
  },
  {
   "cell_type": "code",
   "execution_count": null,
   "metadata": {},
   "outputs": [
    {
     "name": "stdout",
     "output_type": "stream",
     "text": [
      "Epoch 0, Loss 19.17223358154297\n",
      "Epoch 10, Loss 13.721491813659668\n",
      "Epoch 20, Loss 9.688495635986328\n",
      "Epoch 30, Loss 7.098658561706543\n",
      "Epoch 40, Loss 5.983663558959961\n",
      "Epoch 50, Loss 7.050439834594727\n",
      "Epoch 60, Loss 3.968456268310547\n",
      "Epoch 70, Loss 4.605628967285156\n",
      "Epoch 80, Loss 3.431971788406372\n",
      "Epoch 90, Loss 4.354269981384277\n",
      "3.7743947505950928\n"
     ]
    }
   ],
   "source": [
    "# TRAINING\n",
    "for epoch in range(100):\n",
    "    # minibatch construction\n",
    "    ix = torch.randint(0, Xtr.shape[0],(32,)) # random batch of 32 samples of X\n",
    "\n",
    "    # forward pass\n",
    "    emb = C[Xtr[ix]]\n",
    "    h = torch.tanh(emb.view(emb.shape[0], 6) @ W1 + b1)\n",
    "    logits = h @ W2 + b2\n",
    "    loss = F.cross_entropy(logits, Ytr[ix])\n",
    "    if epoch % 10 == 0:\n",
    "        print(f'Epoch {epoch}, Loss {loss.item()}')\n",
    "\n",
    "    # backward pass\n",
    "    for p in parameters:\n",
    "        p.grad = None\n",
    "    loss.backward()\n",
    "\n",
    "    # update\n",
    "    for p in parameters:\n",
    "        p.data += -0.1 * p.grad\n",
    "\n",
    "emb = C[Xte]\n",
    "h = torch.tanh(emb.view(emb.shape[0], 6) @ W1 + b1)\n",
    "logits = h @ W2 + b2\n",
    "loss = F.cross_entropy(logits, Yte)\n",
    "print(loss.item())"
   ]
  },
  {
   "cell_type": "markdown",
   "metadata": {},
   "source": [
    "# Tuning"
   ]
  },
  {
   "cell_type": "code",
   "execution_count": 82,
   "metadata": {},
   "outputs": [],
   "source": [
    "# set up parameters\n",
    "\n",
    "C = torch.randn((27,2))\n",
    "W1 = torch.randn(inputs,100)\n",
    "b1 = torch.randn(100)\n",
    "W2 = torch.randn(100, 27)\n",
    "b2 = torch.randn(27)\n",
    "parameters = [C, W1, b1, W2, b2]\n",
    "\n",
    "for p in parameters:\n",
    "    p.requires_grad = True"
   ]
  },
  {
   "cell_type": "code",
   "execution_count": null,
   "metadata": {},
   "outputs": [
    {
     "name": "stdout",
     "output_type": "stream",
     "text": [
      "Epoch 0, Loss 14.48216724395752\n",
      "Epoch 100, Loss 14.838695526123047\n",
      "Epoch 200, Loss 10.637972831726074\n",
      "Epoch 300, Loss 11.153177261352539\n",
      "Epoch 400, Loss 8.539615631103516\n",
      "Epoch 500, Loss 4.633828163146973\n",
      "Epoch 600, Loss 3.0541675090789795\n",
      "Epoch 700, Loss 3.16552472114563\n",
      "Epoch 800, Loss 4.5675482749938965\n",
      "Epoch 900, Loss 5.832299709320068\n",
      "6.6695475578308105\n"
     ]
    }
   ],
   "source": [
    "# HYPERPARAMETERS TUNING\n",
    "\n",
    "lre = torch.linspace(-3, 0, 1000)\n",
    "lrs = 10 ** lre # from 0.001 to 1 in log scale to explore in a non-linear way\n",
    "\n",
    "lri = []\n",
    "losses = []\n",
    "\n",
    "# TRAINING\n",
    "for epoch in range(1000):\n",
    "    # minibatch construction\n",
    "    ix = torch.randint(0, Xtr.shape[0],(32,)) # random batch of 32 samples of X\n",
    "\n",
    "    # forward pass\n",
    "    emb = C[Xtr[ix]]\n",
    "    h = torch.tanh(emb.view(emb.shape[0], 6) @ W1 + b1)\n",
    "    logits = h @ W2 + b2\n",
    "    loss = F.cross_entropy(logits, Ytr[ix])\n",
    "    if epoch % 100 == 0:\n",
    "        print(f'Epoch {epoch}, Loss {loss.item()}')\n",
    "\n",
    "    # backward pass\n",
    "    for p in parameters:\n",
    "        p.grad = None\n",
    "    loss.backward()\n",
    "\n",
    "    # update\n",
    "    for p in parameters:\n",
    "        p.data += -lrs[epoch] * p.grad\n",
    "\n",
    "    # track stats\n",
    "\n",
    "    lri.append(lre[epoch])\n",
    "    losses.append(loss.item())\n",
    "\n",
    "emb = C[Xva]\n",
    "h = torch.tanh(emb.view(emb.shape[0], 6) @ W1 + b1)\n",
    "logits = h @ W2 + b2\n",
    "loss = F.cross_entropy(logits, Yva)\n",
    "print(loss.item())"
   ]
  },
  {
   "cell_type": "code",
   "execution_count": 80,
   "metadata": {},
   "outputs": [
    {
     "data": {
      "image/png": "[encoded data removed]",
      "text/plain": [
       "<Figure size 640x480 with 1 Axes>"
      ]
     },
     "metadata": {},
     "output_type": "display_data"
    }
   ],
   "source": [
    "plt.plot(lri, losses);"
   ]
  },
  {
   "cell_type": "markdown",
   "metadata": {},
   "source": [
    "Therefore, the best learning rate is in the range of 10e-1"
   ]
  },
  {
   "cell_type": "code",
   "execution_count": 104,
   "metadata": {},
   "outputs": [],
   "source": [
    "# set up parameters\n",
    "\n",
    "C = torch.randn((27,2))\n",
    "W1 = torch.randn(inputs,100)\n",
    "b1 = torch.randn(100)\n",
    "W2 = torch.randn(100, 27)\n",
    "b2 = torch.randn(27)\n",
    "parameters = [C, W1, b1, W2, b2]\n",
    "\n",
    "for p in parameters:\n",
    "    p.requires_grad = True"
   ]
  },
  {
   "cell_type": "code",
   "execution_count": null,
   "metadata": {},
   "outputs": [
    {
     "name": "stdout",
     "output_type": "stream",
     "text": [
      "2.683300495147705\n"
     ]
    }
   ],
   "source": [
    "for epoch in range(1000):\n",
    "    # minibatch construction\n",
    "    ix = torch.randint(0, Xtr.shape[0],(32,)) # random batch of 32 samples of X\n",
    "\n",
    "    # forward pass\n",
    "    emb = C[Xtr[ix]]\n",
    "    h = torch.tanh(emb.view(emb.shape[0], 6) @ W1 + b1)\n",
    "    logits = h @ W2 + b2\n",
    "    loss = F.cross_entropy(logits, Ytr[ix])\n",
    "\n",
    "    # backward pass\n",
    "    for p in parameters:\n",
    "        p.grad = None\n",
    "    loss.backward()\n",
    "\n",
    "    # update\n",
    "    for p in parameters:\n",
    "        p.data += - 0.1 * p.grad\n",
    "\n",
    "emb = C[Xva]\n",
    "h = torch.tanh(emb.view(emb.shape[0], 6) @ W1 + b1)\n",
    "logits = h @ W2 + b2\n",
    "loss = F.cross_entropy(logits, Yva)\n",
    "print(loss.item())"
   ]
  },
  {
   "cell_type": "markdown",
   "metadata": {},
   "source": [
    "## Learning rate decay"
   ]
  },
  {
   "cell_type": "code",
   "execution_count": null,
   "metadata": {},
   "outputs": [
    {
     "name": "stdout",
     "output_type": "stream",
     "text": [
      "2.5130152702331543\n"
     ]
    }
   ],
   "source": [
    "# do a learning rate decay for more 1000  epochs\n",
    "for epoch in range(10000):\n",
    "    # minibatch construction\n",
    "    ix = torch.randint(0, Xtr.shape[0],(32,)) # random batch of 32 samples of X\n",
    "\n",
    "    # forward pass\n",
    "    emb = C[Xtr[ix]]\n",
    "    h = torch.tanh(emb.view(emb.shape[0], 6) @ W1 + b1)\n",
    "    logits = h @ W2 + b2\n",
    "    loss = F.cross_entropy(logits, Ytr[ix])\n",
    "\n",
    "    # backward pass\n",
    "    for p in parameters:\n",
    "        p.grad = None\n",
    "    loss.backward()\n",
    "\n",
    "    # update\n",
    "    for p in parameters:\n",
    "        p.data += - 0.01 * p.grad\n",
    "\n",
    "emb = C[Xva]\n",
    "h = torch.tanh(emb.view(emb.shape[0], 6) @ W1 + b1)\n",
    "logits = h @ W2 + b2\n",
    "loss = F.cross_entropy(logits, Yva)\n",
    "print(loss.item())"
   ]
  },
  {
   "cell_type": "markdown",
   "metadata": {},
   "source": [
    "# Increase model"
   ]
  },
  {
   "cell_type": "code",
   "execution_count": 107,
   "metadata": {},
   "outputs": [],
   "source": [
    "# set up parameters\n",
    "\n",
    "C = torch.randn((27,2))\n",
    "W1 = torch.randn(inputs,300)\n",
    "b1 = torch.randn(300)\n",
    "W2 = torch.randn(300, 27)\n",
    "b2 = torch.randn(27)\n",
    "parameters = [C, W1, b1, W2, b2]\n",
    "\n",
    "for p in parameters:\n",
    "    p.requires_grad = True"
   ]
  },
  {
   "cell_type": "code",
   "execution_count": null,
   "metadata": {},
   "outputs": [
    {
     "name": "stdout",
     "output_type": "stream",
     "text": [
      "2.364089250564575\n"
     ]
    }
   ],
   "source": [
    "for epoch in range(30000):\n",
    "    # minibatch construction\n",
    "    ix = torch.randint(0, Xtr.shape[0],(64,)) # random batch of 64 samples of X\n",
    "\n",
    "    # forward pass\n",
    "    emb = C[Xtr[ix]]\n",
    "    h = torch.tanh(emb.view(emb.shape[0], 6) @ W1 + b1)\n",
    "    logits = h @ W2 + b2\n",
    "    loss = F.cross_entropy(logits, Ytr[ix])\n",
    "\n",
    "    # backward pass\n",
    "    for p in parameters:\n",
    "        p.grad = None\n",
    "    loss.backward()\n",
    "\n",
    "    # update\n",
    "    for p in parameters:\n",
    "        p.data += - 0.01 * p.grad\n",
    "\n",
    "emb = C[Xva]\n",
    "h = torch.tanh(emb.view(emb.shape[0], 6) @ W1 + b1)\n",
    "logits = h @ W2 + b2\n",
    "loss = F.cross_entropy(logits, Yva)\n",
    "print(loss.item())"
   ]
  },
  {
   "cell_type": "code",
   "execution_count": 115,
   "metadata": {},
   "outputs": [
    {
     "data": {
      "image/png": "[encoded data removed]",
      "text/plain": [
       "<Figure size 1200x600 with 1 Axes>"
      ]
     },
     "metadata": {},
     "output_type": "display_data"
    }
   ],
   "source": [
    "plt.figure(figsize=(12, 6))\n",
    "plt.scatter(C[:,0].data, C[:,1].data, s=200)\n",
    "for i in range(C.shape[0]):\n",
    "    plt.text(C[i,0].item(), C[i,1].item(), itos[i], ha = \"center\", va = \"center\", color = \"white\")\n",
    "plt.grid('minor')"
   ]
  },
  {
   "cell_type": "markdown",
   "metadata": {},
   "source": [
    "We can see that the embedding learned some interesting things:\n",
    "- vowels cluster together\n",
    "- 'q' and '.' are alone (special characters)"
   ]
  },
  {
   "cell_type": "markdown",
   "metadata": {},
   "source": [
    "To improve model, we would need to increase number of dimension in embeddings! But the model is already better (2.3) than bimodal one (2.5)"
   ]
  },
  {
   "cell_type": "code",
   "execution_count": null,
   "metadata": {},
   "outputs": [
    {
     "name": "stdout",
     "output_type": "stream",
     "text": [
      "mriahilynn.\n",
      "meel.\n",
      "neh.\n",
      "callynn.\n",
      "rulendrne.\n",
      "cadeled.\n",
      "elin.\n",
      "maline.\n",
      "leigin.\n",
      "colaan.\n",
      "ellyn.\n",
      "lonilin.\n",
      "sadbergohi.\n",
      "jest.\n",
      "jele.\n",
      "jelinn.\n",
      "bellan.\n",
      "bemandi.\n",
      "jylynn.\n",
      "ele.\n"
     ]
    }
   ],
   "source": [
    "# sample from the model\n",
    "g = torch.Generator().manual_seed(2147483647 + 10)\n",
    "\n",
    "for _ in range(20):\n",
    "\n",
    "    out = []\n",
    "    context = [0] * 3 # initialize with all ...\n",
    "    while True:\n",
    "      emb = C[torch.tensor([context])] # (1,block_size,d)\n",
    "      h = torch.tanh(emb.view(1, -1) @ W1 + b1)\n",
    "      logits = h @ W2 + b2\n",
    "      probs = F.softmax(logits, dim=1)\n",
    "      ix = torch.multinomial(probs, num_samples=1, generator=g).item()\n",
    "      context = context[1:] + [ix]\n",
    "      out.append(ix)\n",
    "      if ix == 0:\n",
    "        break\n",
    "\n",
    "    print(''.join(itos[i] for i in out))"
   ]
  },
  {
   "cell_type": "markdown",
   "metadata": {},
   "source": [
    "The model is starting to sound more like human NAMES!!!!"
   ]
  }
 ],
 "metadata": {
  "kernelspec": {
   "display_name": "lewagon",
   "language": "python",
   "name": "python3"
  },
  "language_info": {
   "codemirror_mode": {
    "name": "ipython",
    "version": 3
   },
   "file_extension": ".py",
   "mimetype": "text/x-python",
   "name": "python",
   "nbconvert_exporter": "python",
   "pygments_lexer": "ipython3",
   "version": "3.10.6"
  }
 },
 "nbformat": 4,
 "nbformat_minor": 2
}
